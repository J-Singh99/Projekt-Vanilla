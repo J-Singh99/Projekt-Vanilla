{
 "cells": [
  {
   "cell_type": "markdown",
   "metadata": {},
   "source": [
    "# MAIN WORKING BODY"
   ]
  },
  {
   "cell_type": "markdown",
   "metadata": {},
   "source": [
    "#### Import stuff and creating drivers"
   ]
  },
  {
   "cell_type": "code",
   "execution_count": 12,
   "metadata": {},
   "outputs": [],
   "source": [
    "from selenium import webdriver\n",
    "from selenium.webdriver.common.keys import Keys\n",
    "from selenium.common.exceptions import ElementClickInterceptedException\n",
    "\n",
    "from bs4 import BeautifulSoup\n",
    "\n",
    "import pandas as pd\n",
    "\n",
    "driver = webdriver.Chrome('/home/jaspreet/Documents/chromedriver')"
   ]
  },
  {
   "cell_type": "markdown",
   "metadata": {},
   "source": [
    "#### Initialising the Driver with Indeed.co"
   ]
  },
  {
   "cell_type": "code",
   "execution_count": 13,
   "metadata": {},
   "outputs": [],
   "source": [
    "driver.get('https://www.indeed.co.in/')\n",
    "driver.refresh()"
   ]
  },
  {
   "cell_type": "markdown",
   "metadata": {},
   "source": [
    "#### Enter Jobs and location for the first time "
   ]
  },
  {
   "cell_type": "code",
   "execution_count": 7,
   "metadata": {},
   "outputs": [
    {
     "name": "stdout",
     "output_type": "stream",
     "text": [
      "Enter job: Sales\n",
      "Enter location: Delhu\n"
     ]
    }
   ],
   "source": [
    "jobs = input('Enter job: ')\n",
    "loc = input('Enter location: ')"
   ]
  },
  {
   "cell_type": "markdown",
   "metadata": {},
   "source": [
    "#### Input the Job and Location into the text fields and search "
   ]
  },
  {
   "cell_type": "code",
   "execution_count": 16,
   "metadata": {
    "scrolled": true
   },
   "outputs": [],
   "source": [
    "what = driver.find_element_by_id('text-input-what')\n",
    "where = driver.find_element_by_id('text-input-where')\n",
    "\n",
    "what.send_keys(Keys.CONTROL + \"a\")\n",
    "what.send_keys(Keys.DELETE)\n",
    "what.send_keys(jobs)\n",
    "\n",
    "where.send_keys(Keys.CONTROL + \"a\")\n",
    "where.send_keys(Keys.DELETE)\n",
    "where.send_keys(loc)\n",
    "\n",
    "first_suggestion = driver.find_elements_by_xpath(\"//li[@class = 'icl-Autocomplete-option']\")[0]\n",
    "first_suggestion.click()\n",
    "\n",
    "where.send_keys(Keys.RETURN)"
   ]
  },
  {
   "cell_type": "markdown",
   "metadata": {},
   "source": [
    "#### Place holding DF till I figure out something better."
   ]
  },
  {
   "cell_type": "code",
   "execution_count": 57,
   "metadata": {},
   "outputs": [],
   "source": [
    "df = pd.DataFrame(columns=('Job_Title', 'Company_Name', 'Location', 'Salary', 'Job_Summary'))"
   ]
  },
  {
   "cell_type": "markdown",
   "metadata": {},
   "source": [
    "#### Iterate over the first nine pages"
   ]
  },
  {
   "cell_type": "code",
   "execution_count": 58,
   "metadata": {
    "scrolled": false
   },
   "outputs": [
    {
     "name": "stdout",
     "output_type": "stream",
     "text": [
      "Enter the number of pages to iterate over. Below 5 works best.3\n",
      "Page : 1\n"
     ]
    },
    {
     "name": "stderr",
     "output_type": "stream",
     "text": [
      "/home/jaspreet/anaconda3/lib/python3.7/site-packages/ipykernel_launcher.py:47: DeprecationWarning: use driver.switch_to.window instead\n",
      "/home/jaspreet/anaconda3/lib/python3.7/site-packages/ipykernel_launcher.py:55: DeprecationWarning: use driver.switch_to.window instead\n"
     ]
    },
    {
     "name": "stdout",
     "output_type": "stream",
     "text": [
      "Page : 2\n",
      "Pop up closed while clicking card!!\n",
      "Page : 3\n"
     ]
    }
   ],
   "source": [
    "count = 0\n",
    "total_pages = int(input('Enter the number of pages to iterate over. Below 5 works best.'))\n",
    "\n",
    "while count != total_pages: \n",
    "    print('Page :', count+1)\n",
    "    count = count + 1\n",
    "\n",
    "    # Get source\n",
    "    source = driver.page_source\n",
    "    soup = BeautifulSoup(source, 'html.parser')  \n",
    "\n",
    "    # Max_iterator = len(SOUP_JOBS)\n",
    "    #iterator = 0\n",
    "    \n",
    "    # Make a SOUP iterable list\n",
    "    SOUP_JOBS = soup.find_all(class_= 'jobsearch-SerpJobCard unifiedRow row result clickcard')\n",
    "        \n",
    "    # Make a SELENIUM iterable list\n",
    "    SELENIUM_JOBS = driver.find_elements_by_xpath(\"//div[@class = 'jobsearch-SerpJobCard unifiedRow row result clickcard']\")\n",
    "        \n",
    "    # Run loop to store things in CSV\n",
    "    for i in range(3) :\n",
    "        \n",
    "        # Make variables to store info and use later\n",
    "        Job_Title = SOUP_JOBS[i].find(attrs={'data-tn-element' : 'jobTitle'})['title']\n",
    "        Company_Name = SOUP_JOBS[i].find(class_ = 'company').text\n",
    "        Location = SOUP_JOBS[i].find(class_ = 'location accessible-contrast-color-location').text\n",
    "        Salary = 'NEGOTIABLE'\n",
    "        if SOUP_JOBS[i].find(class_ = 'salaryText') != None:\n",
    "            Salary = SOUP_JOBS[i].find(class_ = 'salaryText').text\n",
    "            Salary\n",
    "        Job_Summary = ''           \n",
    "        \n",
    "        # Focus on element, click it\n",
    "        try:\n",
    "            SELENIUM_JOBS[i].click()\n",
    "        except ElementClickInterceptedException:\n",
    "            driver.find_element_by_partial_link_text('No, thanks').click()\n",
    "            print('Pop up closed while clicking card!!')\n",
    "            SELENIUM_JOBS[i].click()\n",
    "        \n",
    "        # Only if new page has opened\n",
    "        num_tabs = driver.window_handles\n",
    "        if len(num_tabs) == 2:\n",
    "            \n",
    "            # Switch to new tab\n",
    "            driver.switch_to_window(num_tabs[1])\n",
    "            \n",
    "            # Find and store Job_Summary\n",
    "            Job_Summary = driver.find_element_by_xpath(\"//div[@class='jobsearch-ViewJobLayout-jobDisplay icl-Grid-col icl-u-xs-span12 icl-u-lg-span7']\").text\n",
    "\n",
    "            # Move on in life\n",
    "            driver.close()\n",
    "            try:\n",
    "                driver.switch_to_window(num_tabs[0])\n",
    "            except ElementClickInterceptedException:\n",
    "                driver.find_element_by_partial_link_text('No, thanks').click()\n",
    "                print('Pop up closed while switching back!!')\n",
    "                driver.switch_to_window(num_tabs[0])\n",
    "                    \n",
    "            \n",
    "            \n",
    "            if len(driver.window_handles) != 1:\n",
    "                print('OHHHHH!!! OHHHHHHHHHH!!! ERROR!!!!!!')\n",
    "                print('DROP EVERYTHING AND CALL HELP!!! THIS IS THE BIGGEST ERROR EVER!!!')\n",
    "                print('Please, PLEASE, call Jaspreet!')\n",
    "                break\n",
    "                    \n",
    "        else:\n",
    "            print('OHHHHH!!! OHHHHHHHHHH!!! ERROR!!!!!!')\n",
    "            print('Please, PLEASE, call Jaspreet!')\n",
    "            break\n",
    "        \n",
    "        \n",
    "        \n",
    "        #creating an entry to add to CSV file\n",
    "        csv_dict = [{'Job_Title':Job_Title, 'Company_Name':Company_Name, 'Location':Location, 'Salary':Salary, 'Job_Summary':Job_Summary}]\n",
    "        temp_df_entry = pd.DataFrame(csv_dict)\n",
    "        \n",
    "        #pushing entry into CSV file\n",
    "        df = df.append(temp_df_entry, ignore_index = True)\n",
    "        df.to_csv('Chalo.csv')\n",
    "    \n",
    "    try:\n",
    "        next_page = driver.find_element_by_partial_link_text('Next »')\n",
    "        next_page.click()\n",
    "    except ElementClickInterceptedException:\n",
    "        driver.find_element_by_partial_link_text('No, thanks').click()\n",
    "        print('Pop Up Closed!!')\n",
    "        next_page = driver.find_element_by_partial_link_text('Next »')\n",
    "        next_page.click()\n",
    "    #No Next------------------------------"
   ]
  },
  {
   "cell_type": "code",
   "execution_count": 44,
   "metadata": {},
   "outputs": [
    {
     "data": {
      "text/plain": [
       "[]"
      ]
     },
     "execution_count": 44,
     "metadata": {},
     "output_type": "execute_result"
    }
   ],
   "source": [
    "driver.find_elements_by_xpath(\"//div[@class = 'location accessible-contrast-color-location']\")"
   ]
  },
  {
   "cell_type": "code",
   "execution_count": 45,
   "metadata": {},
   "outputs": [
    {
     "data": {
      "text/plain": [
       "'https://www.indeed.co.in/jobs?q=Sales&l=Delhi&start=80'"
      ]
     },
     "execution_count": 45,
     "metadata": {},
     "output_type": "execute_result"
    }
   ],
   "source": [
    "driver.current_url"
   ]
  },
  {
   "cell_type": "code",
   "execution_count": null,
   "metadata": {},
   "outputs": [],
   "source": []
  }
 ],
 "metadata": {
  "kernelspec": {
   "display_name": "Python 3",
   "language": "python",
   "name": "python3"
  },
  "language_info": {
   "codemirror_mode": {
    "name": "ipython",
    "version": 3
   },
   "file_extension": ".py",
   "mimetype": "text/x-python",
   "name": "python",
   "nbconvert_exporter": "python",
   "pygments_lexer": "ipython3",
   "version": "3.7.3"
  }
 },
 "nbformat": 4,
 "nbformat_minor": 2
}
