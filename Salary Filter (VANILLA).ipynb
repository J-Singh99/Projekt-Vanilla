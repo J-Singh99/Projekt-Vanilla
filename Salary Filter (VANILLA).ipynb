{
 "cells": [
  {
   "cell_type": "markdown",
   "metadata": {},
   "source": [
    "## Salary Filter for God_Given_Gift.csv "
   ]
  },
  {
   "cell_type": "markdown",
   "metadata": {},
   "source": [
    "#### Getting the libraries"
   ]
  },
  {
   "cell_type": "code",
   "execution_count": 5,
   "metadata": {},
   "outputs": [],
   "source": [
    "import pandas as pd"
   ]
  },
  {
   "cell_type": "markdown",
   "metadata": {},
   "source": [
    "#### Creating and cleaning DF Object"
   ]
  },
  {
   "cell_type": "code",
   "execution_count": 299,
   "metadata": {},
   "outputs": [],
   "source": [
    "df = pd.read_csv('God_Given_Gift.csv')\n",
    "df = df.drop(\"Unnamed: 0\", axis=1)\n",
    "df.loc[df.Salary == 'NEGOTIABLE', 'Salary'] = 0"
   ]
  },
  {
   "cell_type": "markdown",
   "metadata": {},
   "source": [
    "#### Creating new columns for Min/Max Salary"
   ]
  },
  {
   "cell_type": "code",
   "execution_count": 300,
   "metadata": {},
   "outputs": [],
   "source": [
    "Min_Salary = []\n",
    "Max_Salary = []"
   ]
  },
  {
   "cell_type": "markdown",
   "metadata": {},
   "source": [
    "#### Loop for finding, cleaning, converting and appending salary"
   ]
  },
  {
   "cell_type": "code",
   "execution_count": 305,
   "metadata": {},
   "outputs": [
    {
     "name": "stdout",
     "output_type": "stream",
     "text": [
      "0\n",
      "0\n",
      "6\n",
      "6\n",
      "5\n",
      "5\n",
      "5\n",
      "5\n"
     ]
    }
   ],
   "source": [
    "for i in df['Salary']:\n",
    "    \n",
    "    \n",
    "    if i == 0:\n",
    "        Min_Salary.append(0)\n",
    "        Max_Salary.append(0)\n",
    "        continue\n",
    "    \n",
    "    #i = i.split('\\n')[1]\n",
    "    \n",
    "    if '-' not in i:\n",
    "        Min_Salary.append(0)\n",
    "        Max_Salary.append(0)\n",
    "        continue\n",
    "        \n",
    "        #res = [j for j in i if j.isdigit()]\n",
    "        #for j in res:\n",
    "        #    new_res = new_res + j\n",
    "        #Max_Salary.append(int(new_res[:len(new_res)//2]))\n",
    "        #continue\n",
    "        \n",
    "    res = [j for j in i if j.isdigit()] \n",
    "    \n",
    "    \n",
    "    index = 0\n",
    "    init = str('')\n",
    "    count = 0\n",
    "    for j in res:\n",
    "        if count >= 3:\n",
    "            if j != '0':\n",
    "                index = res.index(j)\n",
    "                \n",
    "                break\n",
    "            else:\n",
    "                init = init + j\n",
    "        else:\n",
    "            init = init + j \n",
    "        count += 1\n",
    "    print(index)\n",
    "    \n",
    "    new_res = str('')\n",
    "    for j in res[index:]:\n",
    "        new_res = new_res + j\n",
    "    \n",
    "    Min_Salary.append(int(init))\n",
    "    Max_Salary.append(int(new_res))"
   ]
  },
  {
   "cell_type": "markdown",
   "metadata": {},
   "source": [
    "#### Adding the columns to the DF"
   ]
  },
  {
   "cell_type": "code",
   "execution_count": 302,
   "metadata": {},
   "outputs": [],
   "source": [
    "df['Min_Salary'] = Min_Salary\n",
    "df['Max_Salary'] = Max_Salary"
   ]
  },
  {
   "cell_type": "markdown",
   "metadata": {},
   "source": [
    "### Sorting based on Salary"
   ]
  },
  {
   "cell_type": "code",
   "execution_count": 303,
   "metadata": {},
   "outputs": [],
   "source": [
    "df.sort_values('Max_Salary', ascending=False, inplace=True)"
   ]
  }
 ],
 "metadata": {
  "kernelspec": {
   "display_name": "Python 3",
   "language": "python",
   "name": "python3"
  },
  "language_info": {
   "codemirror_mode": {
    "name": "ipython",
    "version": 3
   },
   "file_extension": ".py",
   "mimetype": "text/x-python",
   "name": "python",
   "nbconvert_exporter": "python",
   "pygments_lexer": "ipython3",
   "version": "3.7.3"
  }
 },
 "nbformat": 4,
 "nbformat_minor": 2
}
