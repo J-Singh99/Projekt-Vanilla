{
 "cells": [
  {
   "cell_type": "markdown",
   "metadata": {},
   "source": [
    "## Salary Filter for God_Given_Gift.csv "
   ]
  },
  {
   "cell_type": "markdown",
   "metadata": {},
   "source": [
    "#### Getting the libraries"
   ]
  },
  {
   "cell_type": "code",
   "execution_count": 3,
   "metadata": {},
   "outputs": [],
   "source": [
    "import pandas as pd"
   ]
  },
  {
   "cell_type": "markdown",
   "metadata": {},
   "source": [
    "#### Creating and cleaning DF Object"
   ]
  },
  {
   "cell_type": "code",
   "execution_count": 4,
   "metadata": {},
   "outputs": [],
   "source": [
    "df = pd.read_csv('Chalo.csv')\n",
    "df = df.drop(\"Unnamed: 0\", axis=1)\n",
    "df.loc[df.Salary == 'NEGOTIABLE', 'Salary'] = 0"
   ]
  },
  {
   "cell_type": "markdown",
   "metadata": {},
   "source": [
    "#### Creating new columns for Min/Max Salary"
   ]
  },
  {
   "cell_type": "code",
   "execution_count": 5,
   "metadata": {},
   "outputs": [],
   "source": [
    "Min_Salary = []\n",
    "Max_Salary = []"
   ]
  },
  {
   "cell_type": "markdown",
   "metadata": {},
   "source": [
    "#### Loop for finding, cleaning, converting and appending salary"
   ]
  },
  {
   "cell_type": "code",
   "execution_count": 6,
   "metadata": {},
   "outputs": [
    {
     "name": "stdout",
     "output_type": "stream",
     "text": [
      "5\n",
      "5\n",
      "5\n",
      "5\n",
      "6\n",
      "6\n"
     ]
    }
   ],
   "source": [
    "for i in df['Salary']:\n",
    "    \n",
    "    \n",
    "    if i == 0:\n",
    "        Min_Salary.append(0)\n",
    "        Max_Salary.append(0)\n",
    "        continue\n",
    "    \n",
    "    \n",
    "    if '-' not in i:\n",
    "        Min_Salary.append(0)\n",
    "        Max_Salary.append(0)\n",
    "        continue\n",
    "        \n",
    "\n",
    "    res = [j for j in i if j.isdigit()] \n",
    "    \n",
    "    \n",
    "    index = 0\n",
    "    init = str('')\n",
    "    count = 0\n",
    "    for j in res:\n",
    "        if count >= 3:\n",
    "            if j != '0':\n",
    "                index = res.index(j)\n",
    "                \n",
    "                break\n",
    "            else:\n",
    "                init = init + j\n",
    "        else:\n",
    "            init = init + j \n",
    "        count += 1\n",
    "    \n",
    "    new_res = str('')\n",
    "    for j in res[index:]:\n",
    "        new_res = new_res + j\n",
    "    \n",
    "    Min_Salary.append(int(init))\n",
    "    Max_Salary.append(int(new_res))"
   ]
  },
  {
   "cell_type": "markdown",
   "metadata": {},
   "source": [
    "#### Adding the columns to the DF"
   ]
  },
  {
   "cell_type": "code",
   "execution_count": 7,
   "metadata": {},
   "outputs": [],
   "source": [
    "df['Min_Salary'] = Min_Salary\n",
    "df['Max_Salary'] = Max_Salary"
   ]
  },
  {
   "cell_type": "markdown",
   "metadata": {},
   "source": [
    "### Sorting based on Salary"
   ]
  },
  {
   "cell_type": "code",
   "execution_count": 8,
   "metadata": {},
   "outputs": [],
   "source": [
    "df.sort_values('Max_Salary', ascending=False, inplace=True)"
   ]
  },
  {
   "cell_type": "code",
   "execution_count": 9,
   "metadata": {},
   "outputs": [
    {
     "data": {
      "text/html": [
       "<div>\n",
       "<style scoped>\n",
       "    .dataframe tbody tr th:only-of-type {\n",
       "        vertical-align: middle;\n",
       "    }\n",
       "\n",
       "    .dataframe tbody tr th {\n",
       "        vertical-align: top;\n",
       "    }\n",
       "\n",
       "    .dataframe thead th {\n",
       "        text-align: right;\n",
       "    }\n",
       "</style>\n",
       "<table border=\"1\" class=\"dataframe\">\n",
       "  <thead>\n",
       "    <tr style=\"text-align: right;\">\n",
       "      <th></th>\n",
       "      <th>Company_Name</th>\n",
       "      <th>Job_Summary</th>\n",
       "      <th>Job_Title</th>\n",
       "      <th>Location</th>\n",
       "      <th>Salary</th>\n",
       "      <th>Min_Salary</th>\n",
       "      <th>Max_Salary</th>\n",
       "    </tr>\n",
       "  </thead>\n",
       "  <tbody>\n",
       "    <tr>\n",
       "      <th>5</th>\n",
       "      <td>\\nKarmic Events India</td>\n",
       "      <td>Business Development Manager\\nKarmic Events In...</td>\n",
       "      <td>Business Development Manager</td>\n",
       "      <td>New Delhi, Delhi</td>\n",
       "      <td>\\n₹3,00,000 - ₹8,00,000 a year</td>\n",
       "      <td>300000</td>\n",
       "      <td>800000</td>\n",
       "    </tr>\n",
       "    <tr>\n",
       "      <th>6</th>\n",
       "      <td>\\nTravClan Technology</td>\n",
       "      <td>Business Development Executive\\nTravClan Techn...</td>\n",
       "      <td>Business Development Executive</td>\n",
       "      <td>Jhandewalan, Delhi, Delhi</td>\n",
       "      <td>\\n₹3,36,000 - ₹4,80,000 a year</td>\n",
       "      <td>336000</td>\n",
       "      <td>480000</td>\n",
       "    </tr>\n",
       "    <tr>\n",
       "      <th>1</th>\n",
       "      <td>\\nWhitehat Education Technology Pvt. Ltd.</td>\n",
       "      <td>Education Sales Enabler\\nWhitehat Education Te...</td>\n",
       "      <td>Education Sales Enabler</td>\n",
       "      <td>Delhi, Delhi</td>\n",
       "      <td>\\n₹50,000 - ₹1,00,000 a month</td>\n",
       "      <td>50000</td>\n",
       "      <td>100000</td>\n",
       "    </tr>\n",
       "    <tr>\n",
       "      <th>4</th>\n",
       "      <td>\\nAtlanta Systems Pvt Ltd</td>\n",
       "      <td>Export Sales Manager\\nAtlanta Systems Pvt Ltd\\...</td>\n",
       "      <td>Export Sales Manager</td>\n",
       "      <td>Delhi, Delhi</td>\n",
       "      <td>\\n₹35,000 - ₹45,000 a month</td>\n",
       "      <td>35000</td>\n",
       "      <td>45000</td>\n",
       "    </tr>\n",
       "    <tr>\n",
       "      <th>2</th>\n",
       "      <td>\\nMORNIS INTERNATIONAL LLP</td>\n",
       "      <td>Sales Manager / Sale Exe. Corporate Sales (Tou...</td>\n",
       "      <td>Sales Manager / Sale Exe. Corporate Sales (Tou...</td>\n",
       "      <td>New Delhi, Delhi</td>\n",
       "      <td>\\n₹10,000 - ₹30,000 a month</td>\n",
       "      <td>10000</td>\n",
       "      <td>30000</td>\n",
       "    </tr>\n",
       "    <tr>\n",
       "      <th>0</th>\n",
       "      <td>\\nBlueJack</td>\n",
       "      <td>Direct Sales Associate\\nBlueJack\\nSaket, Delhi...</td>\n",
       "      <td>Direct Sales Associate</td>\n",
       "      <td>Saket, Delhi, Delhi</td>\n",
       "      <td>\\n₹18,000 - ₹25,000 a month</td>\n",
       "      <td>18000</td>\n",
       "      <td>25000</td>\n",
       "    </tr>\n",
       "    <tr>\n",
       "      <th>3</th>\n",
       "      <td>\\nTulsi Nuts and Dry Fruits - KBB Nuts P Ltd</td>\n",
       "      <td>Sales Manager - Ecommerce Operations\\nTulsi Nu...</td>\n",
       "      <td>Sales Manager - Ecommerce Operations</td>\n",
       "      <td>Delhi, Delhi</td>\n",
       "      <td>0</td>\n",
       "      <td>0</td>\n",
       "      <td>0</td>\n",
       "    </tr>\n",
       "    <tr>\n",
       "      <th>7</th>\n",
       "      <td>\\nKitchen Solutions/Hello Deli!</td>\n",
       "      <td>Restaurant Sales Promotion / Operation Manager...</td>\n",
       "      <td>Restaurant Sales Promotion / Operation Manager</td>\n",
       "      <td>New Delhi, Delhi</td>\n",
       "      <td>\\n₹25,000 a month</td>\n",
       "      <td>0</td>\n",
       "      <td>0</td>\n",
       "    </tr>\n",
       "    <tr>\n",
       "      <th>8</th>\n",
       "      <td>\\nFitline</td>\n",
       "      <td>Sales Executive\\nFitline\\nDelhi, Delhi\\nJob Su...</td>\n",
       "      <td>Sales Executive</td>\n",
       "      <td>Delhi, Delhi</td>\n",
       "      <td>0</td>\n",
       "      <td>0</td>\n",
       "      <td>0</td>\n",
       "    </tr>\n",
       "  </tbody>\n",
       "</table>\n",
       "</div>"
      ],
      "text/plain": [
       "                                   Company_Name  \\\n",
       "5                         \\nKarmic Events India   \n",
       "6                         \\nTravClan Technology   \n",
       "1     \\nWhitehat Education Technology Pvt. Ltd.   \n",
       "4                     \\nAtlanta Systems Pvt Ltd   \n",
       "2                    \\nMORNIS INTERNATIONAL LLP   \n",
       "0                                    \\nBlueJack   \n",
       "3  \\nTulsi Nuts and Dry Fruits - KBB Nuts P Ltd   \n",
       "7               \\nKitchen Solutions/Hello Deli!   \n",
       "8                                     \\nFitline   \n",
       "\n",
       "                                         Job_Summary  \\\n",
       "5  Business Development Manager\\nKarmic Events In...   \n",
       "6  Business Development Executive\\nTravClan Techn...   \n",
       "1  Education Sales Enabler\\nWhitehat Education Te...   \n",
       "4  Export Sales Manager\\nAtlanta Systems Pvt Ltd\\...   \n",
       "2  Sales Manager / Sale Exe. Corporate Sales (Tou...   \n",
       "0  Direct Sales Associate\\nBlueJack\\nSaket, Delhi...   \n",
       "3  Sales Manager - Ecommerce Operations\\nTulsi Nu...   \n",
       "7  Restaurant Sales Promotion / Operation Manager...   \n",
       "8  Sales Executive\\nFitline\\nDelhi, Delhi\\nJob Su...   \n",
       "\n",
       "                                           Job_Title  \\\n",
       "5                       Business Development Manager   \n",
       "6                     Business Development Executive   \n",
       "1                            Education Sales Enabler   \n",
       "4                               Export Sales Manager   \n",
       "2  Sales Manager / Sale Exe. Corporate Sales (Tou...   \n",
       "0                             Direct Sales Associate   \n",
       "3               Sales Manager - Ecommerce Operations   \n",
       "7     Restaurant Sales Promotion / Operation Manager   \n",
       "8                                    Sales Executive   \n",
       "\n",
       "                    Location                          Salary  Min_Salary  \\\n",
       "5           New Delhi, Delhi  \\n₹3,00,000 - ₹8,00,000 a year      300000   \n",
       "6  Jhandewalan, Delhi, Delhi  \\n₹3,36,000 - ₹4,80,000 a year      336000   \n",
       "1               Delhi, Delhi   \\n₹50,000 - ₹1,00,000 a month       50000   \n",
       "4               Delhi, Delhi     \\n₹35,000 - ₹45,000 a month       35000   \n",
       "2           New Delhi, Delhi     \\n₹10,000 - ₹30,000 a month       10000   \n",
       "0        Saket, Delhi, Delhi     \\n₹18,000 - ₹25,000 a month       18000   \n",
       "3               Delhi, Delhi                               0           0   \n",
       "7           New Delhi, Delhi               \\n₹25,000 a month           0   \n",
       "8               Delhi, Delhi                               0           0   \n",
       "\n",
       "   Max_Salary  \n",
       "5      800000  \n",
       "6      480000  \n",
       "1      100000  \n",
       "4       45000  \n",
       "2       30000  \n",
       "0       25000  \n",
       "3           0  \n",
       "7           0  \n",
       "8           0  "
      ]
     },
     "execution_count": 9,
     "metadata": {},
     "output_type": "execute_result"
    }
   ],
   "source": [
    "df"
   ]
  }
 ],
 "metadata": {
  "kernelspec": {
   "display_name": "Python 3",
   "language": "python",
   "name": "python3"
  },
  "language_info": {
   "codemirror_mode": {
    "name": "ipython",
    "version": 3
   },
   "file_extension": ".py",
   "mimetype": "text/x-python",
   "name": "python",
   "nbconvert_exporter": "python",
   "pygments_lexer": "ipython3",
   "version": "3.7.3"
  }
 },
 "nbformat": 4,
 "nbformat_minor": 2
}
