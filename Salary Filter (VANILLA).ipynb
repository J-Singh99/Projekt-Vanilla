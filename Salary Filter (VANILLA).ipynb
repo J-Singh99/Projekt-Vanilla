{
 "cells": [
  {
   "cell_type": "markdown",
   "metadata": {},
   "source": [
    "## Salary Filter for God_Given_Gift.csv "
   ]
  },
  {
   "cell_type": "markdown",
   "metadata": {},
   "source": [
    "#### Getting the libraries"
   ]
  },
  {
   "cell_type": "code",
   "execution_count": 42,
   "metadata": {},
   "outputs": [],
   "source": [
    "import pandas as pd"
   ]
  },
  {
   "cell_type": "markdown",
   "metadata": {},
   "source": [
    "#### Creating and cleaning DF Object"
   ]
  },
  {
   "cell_type": "code",
   "execution_count": 43,
   "metadata": {},
   "outputs": [],
   "source": [
    "df = pd.read_csv('Chalo.csv')\n",
    "df = df.drop(\"Unnamed: 0\", axis=1)\n",
    "df.loc[df.Salary == 'NEGOTIABLE', 'Salary'] = 0"
   ]
  },
  {
   "cell_type": "markdown",
   "metadata": {},
   "source": [
    "#### Creating new columns for Min/Max Salary"
   ]
  },
  {
   "cell_type": "code",
   "execution_count": 44,
   "metadata": {},
   "outputs": [],
   "source": [
    "Min_Salary = []\n",
    "Max_Salary = []"
   ]
  },
  {
   "cell_type": "markdown",
   "metadata": {},
   "source": [
    "#### Loop for finding, cleaning, converting and appending salary"
   ]
  },
  {
   "cell_type": "code",
   "execution_count": 45,
   "metadata": {},
   "outputs": [],
   "source": [
    "for sal in df['Salary']:\n",
    "    \n",
    "    sal=str(sal)\n",
    "        \n",
    "    if sal =='0':\n",
    "        Max_Salary.append(0)\n",
    "        Min_Salary.append(0)\n",
    "\n",
    "    elif 'month' in sal:\n",
    "        if '-' in sal:\n",
    "            start_index=sal.find('-')\n",
    "            end_index=sal.find('a')\n",
    "            \n",
    "            str_final=sal[start_index+3:end_index-1]\n",
    "            str_final=str_final.replace(',','')\n",
    "            str_int_final=int(float(str_final))\n",
    "            \n",
    "            Max_Salary.append(str_int_final)\n",
    "            Min_Salary.append(int(float(sal[2:start_index-1].replace(',',''))))\n",
    "\n",
    "        else:\n",
    "            end_index=sal.find('a')                  \n",
    "            str_final=sal[2:end_index-1]\n",
    "            str_final=str_final.replace(',','')\n",
    "            str_int_final=int(float(str_final))\n",
    "            Max_Salary.append(str_int_final)\n",
    "            Min_Salary.append(str_int_final)\n",
    "\n",
    "\n",
    "    elif 'year' in sal:\n",
    "        if '-' in sal:\n",
    "            start_index=sal.find('-')\n",
    "            end_index=sal.find('a')\n",
    "            str_final=sal[start_index+3:end_index-1]\n",
    "            str_final=str_final.replace(',','')\n",
    "            str_int_final=int(float(str_final)/12)\n",
    "            Max_Salary.append(str_int_final)\n",
    "            Min_Salary.append(int(float(sal[2:start_index-1].replace(',',''))/12))\n",
    "\n",
    "\n",
    "        else:\n",
    "            end_index=sal.find('a')\n",
    "            str_final=sal[2:end_index-1]\n",
    "            str_final=str_final.replace(',','')\n",
    "            str_int_final=int(float(str_final)/12)\n",
    "            Max_Salary.append(str_int_final)\n",
    "            Min_Salary.append(str_int_final)\n",
    "            \n",
    "    else:\n",
    "        print('Can\\'t sort, LOL!')"
   ]
  },
  {
   "cell_type": "code",
   "execution_count": 46,
   "metadata": {},
   "outputs": [
    {
     "data": {
      "text/plain": [
       "[18000, 50000, 10000, 0, 35000, 25000, 28000, 25000, 0]"
      ]
     },
     "execution_count": 46,
     "metadata": {},
     "output_type": "execute_result"
    }
   ],
   "source": [
    "Min_Salary"
   ]
  },
  {
   "cell_type": "code",
   "execution_count": 47,
   "metadata": {},
   "outputs": [
    {
     "data": {
      "text/plain": [
       "[25000, 100000, 30000, 0, 45000, 66666, 40000, 25000, 0]"
      ]
     },
     "execution_count": 47,
     "metadata": {},
     "output_type": "execute_result"
    }
   ],
   "source": [
    "Max_Salary"
   ]
  },
  {
   "cell_type": "markdown",
   "metadata": {},
   "source": [
    "#### Adding the columns to the DF"
   ]
  },
  {
   "cell_type": "code",
   "execution_count": 48,
   "metadata": {},
   "outputs": [],
   "source": [
    "df['Min_Salary'] = Min_Salary\n",
    "df['Max_Salary'] = Max_Salary"
   ]
  },
  {
   "cell_type": "markdown",
   "metadata": {},
   "source": [
    "## Sorting based on asc./desc. Salary"
   ]
  },
  {
   "cell_type": "code",
   "execution_count": 49,
   "metadata": {},
   "outputs": [],
   "source": [
    "df.sort_values('Max_Salary', ascending=True, inplace=True)"
   ]
  },
  {
   "cell_type": "markdown",
   "metadata": {},
   "source": [
    "## Applying a ABOVE_THIS/BELOW_THIS filter"
   ]
  },
  {
   "cell_type": "code",
   "execution_count": 52,
   "metadata": {},
   "outputs": [
    {
     "name": "stdout",
     "output_type": "stream",
     "text": [
      "Enter a minimum salary base : 25000\n",
      "Enter a maximum salary cap : 100000\n"
     ]
    }
   ],
   "source": [
    "min_salary = int(input('Enter a minimum salary base : '))\n",
    "max_salary = int(input('Enter a maximum salary cap : '))"
   ]
  },
  {
   "cell_type": "code",
   "execution_count": 54,
   "metadata": {},
   "outputs": [],
   "source": [
    "Suitable_jobs = df[(df['Min_Salary'] > min_salary) & (df['Max_Salary'] < max_salary)]"
   ]
  }
 ],
 "metadata": {
  "kernelspec": {
   "display_name": "Python 3",
   "language": "python",
   "name": "python3"
  },
  "language_info": {
   "codemirror_mode": {
    "name": "ipython",
    "version": 3
   },
   "file_extension": ".py",
   "mimetype": "text/x-python",
   "name": "python",
   "nbconvert_exporter": "python",
   "pygments_lexer": "ipython3",
   "version": "3.7.3"
  }
 },
 "nbformat": 4,
 "nbformat_minor": 2
}
